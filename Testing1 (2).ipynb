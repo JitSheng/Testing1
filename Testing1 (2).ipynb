{
  "nbformat": 4,
  "nbformat_minor": 0,
  "metadata": {
    "colab": {
      "name": "Testing1.ipynb",
      "provenance": []
    },
    "kernelspec": {
      "name": "python3",
      "display_name": "Python 3"
    }
  },
  "cells": [
    {
      "cell_type": "code",
      "metadata": {
        "id": "Vc7ujBdoItOU",
        "colab_type": "code",
        "colab": {}
      },
      "source": [
        "class Snake:\n",
        "    \n",
        "    def __init__(self, length):\n",
        "        self.length = length\n",
        "        \n",
        "    def getLength(self):\n",
        "        return self.length\n",
        "    "
      ],
      "execution_count": 0,
      "outputs": []
    },
    {
      "cell_type": "code",
      "metadata": {
        "id": "noBYkMvvIyT_",
        "colab_type": "code",
        "colab": {
          "base_uri": "https://localhost:8080/",
          "height": 118
        },
        "outputId": "f9803344-b576-4da0-ffbe-9b31fdb42d00"
      },
      "source": [
        "import unittest\n",
        "\n",
        "\n",
        "class Tests(unittest.TestCase):\n",
        "\n",
        "    def test_snake_length(self):\n",
        "        s1 = Snake(5)\n",
        "        snakelen = s1.getLength()\n",
        "        self.assertEqual(snakelen, 5)\n",
        "        \n",
        "if __name__ == \"__main__\":\n",
        "    unittest.main(argv=['ignored', '-v'], exit=False)"
      ],
      "execution_count": 5,
      "outputs": [
        {
          "output_type": "stream",
          "text": [
            "test_snake_length (__main__.Tests) ... ok\n",
            "\n",
            "----------------------------------------------------------------------\n",
            "Ran 1 test in 0.004s\n",
            "\n",
            "OK\n"
          ],
          "name": "stderr"
        }
      ]
    }
  ]
}